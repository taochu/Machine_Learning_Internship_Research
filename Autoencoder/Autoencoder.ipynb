{
 "cells": [
  {
   "cell_type": "markdown",
   "metadata": {},
   "source": [
    "# Deep Autoencoder on MNIST Dataset\n",
    "\n",
    "<img src=\"https://4.bp.blogspot.com/-oUcusrWxk2U/WkntSbY7EQI/AAAAAAAAXHM/SzJ7vLUDu4U0IV5QfxQj-6W78h6-JUfSwCLcBGAs/s1600/4110_2.PNG\" width=\"500\" height=\"300\">\n",
    "\n",
    "Autoencoder is useful in extracting latent representation of high dimensional data, and with latent space visualization, we can see how the original data is distributed with new learned features. Most importantly for my case, not with this dataset though, but with the images I'm currently working on at my company, this technique could be used to detect anomalies if together we implement clustering or other outlier techniques such as isolation forest or local outlier factor."
   ]
  },
  {
   "cell_type": "code",
   "execution_count": 1,
   "metadata": {},
   "outputs": [
    {
     "name": "stderr",
     "output_type": "stream",
     "text": [
      "Using TensorFlow backend.\n"
     ]
    }
   ],
   "source": [
    "import matplotlib.pyplot as plt\n",
    "plt.style.use('ggplot')\n",
    "%matplotlib inline\n",
    "import numpy as np\n",
    "\n",
    "from keras.datasets import mnist\n",
    "from keras.layers import Dense, Input\n",
    "from keras.layers import Conv2D, Flatten, Lambda\n",
    "from keras.layers import Reshape, Conv2DTranspose\n",
    "from keras.models import Model\n",
    "from keras.losses import mse, binary_crossentropy\n",
    "from keras.utils import plot_model\n",
    "from keras.callbacks import EarlyStopping\n",
    "from keras import backend as K\n",
    "import tensorflow as tf\n",
    "from keras.backend.tensorflow_backend import set_session\n",
    "config = tf.ConfigProto()\n",
    "config.gpu_options.allow_growth = True\n",
    "# config.gpu_options.per_process_gpu_memory_fraction = 0.48\n",
    "set_session(tf.Session(config=config))\n",
    "K.get_session().run(tf.global_variables_initializer())\n",
    "\n",
    "from tensorflow import set_random_seed\n",
    "set_random_seed(2)\n",
    "\n",
    "import sys\n",
    "sys.path.append('util/')\n",
    "from util import plotProgress"
   ]
  },
  {
   "cell_type": "code",
   "execution_count": 2,
   "metadata": {},
   "outputs": [],
   "source": [
    "(X_train, y_train), (X_test, y_test) = mnist.load_data()"
   ]
  },
  {
   "cell_type": "code",
   "execution_count": 3,
   "metadata": {},
   "outputs": [
    {
     "name": "stdout",
     "output_type": "stream",
     "text": [
      "60000 train samples\n",
      "10000 test samples\n"
     ]
    }
   ],
   "source": [
    "X_train = X_train.reshape(60000,-1)\n",
    "X_test = X_test.reshape(10000,-1)\n",
    "X_train = X_train.astype('float32')\n",
    "X_test = X_test.astype('float32')\n",
    "X_train /= 255\n",
    "X_test /= 255\n",
    "print(X_train.shape[0], 'train samples')\n",
    "print(X_test.shape[0], 'test samples')"
   ]
  },
  {
   "cell_type": "code",
   "execution_count": 4,
   "metadata": {},
   "outputs": [],
   "source": [
    "# from sklearn.manifold import TSNE\n",
    "# X_tsne=X_test[:5000].reshape(5000,-1)\n",
    "# tsne=TSNE(n_components=2,verbose=1,n_iter=500).fit_transform(X_tsne)\n",
    "# cmap=['cyan','black','orange','red','blue','lime','azure','wheat','salmon','navy']\n",
    "# fig,ax=plt.subplots()\n",
    "# for i in range(10):\n",
    "#     ax.scatter(tsne[y_test[:5000]==i,0],tsne[y_test[:5000]==i,1],\n",
    "#                 edgecolors='black',c=cmap[i],\n",
    "#                 label=str(i))\n",
    "#     ax.annotate(str(i),(tsne[y_test[:5000]==i,0].mean(),tsne[y_test[:5000]==i,1].mean()),\n",
    "#                bbox=dict(boxstyle=\"round\", fc=\"w\"))\n",
    "# plt.legend()"
   ]
  },
  {
   "cell_type": "code",
   "execution_count": 5,
   "metadata": {},
   "outputs": [],
   "source": [
    "epochs = 100\n",
    "batch = 256\n",
    "latent_dim = 2\n",
    "inter_dim1 = 400\n",
    "# inter_dim2 = 128\n",
    "# inter_dim3 = 200\n",
    "# inter_dim4 = 32\n",
    "# inter_dim5 = 50\n",
    "optimizer = 'adam'"
   ]
  },
  {
   "cell_type": "code",
   "execution_count": 6,
   "metadata": {},
   "outputs": [
    {
     "name": "stdout",
     "output_type": "stream",
     "text": [
      "_________________________________________________________________\n",
      "Layer (type)                 Output Shape              Param #   \n",
      "=================================================================\n",
      "input_1 (InputLayer)         (None, 784)               0         \n",
      "_________________________________________________________________\n",
      "dense_1 (Dense)              (None, 400)               314000    \n",
      "=================================================================\n",
      "Total params: 314,000\n",
      "Trainable params: 314,000\n",
      "Non-trainable params: 0\n",
      "_________________________________________________________________\n"
     ]
    }
   ],
   "source": [
    "inputs=Input(shape = (X_train.shape[1],))\n",
    "x = inputs\n",
    "x = Dense(inter_dim1,activation='relu')(x)\n",
    "# x = Dense(inter_dim2,activation='relu')(x)\n",
    "# x = Dense(inter_dim3,activation='relu')(x)\n",
    "# x = Dense(inter_dim4,activation='relu')(x)\n",
    "# x = Dense(inter_dim5,activation='relu')(x)\n",
    "# latent = Dense(latent_dim)(x)\n",
    "encoder = Model(inputs,x,name='encoder')\n",
    "encoder.summary()"
   ]
  },
  {
   "cell_type": "code",
   "execution_count": 9,
   "metadata": {},
   "outputs": [
    {
     "name": "stdout",
     "output_type": "stream",
     "text": [
      "_________________________________________________________________\n",
      "Layer (type)                 Output Shape              Param #   \n",
      "=================================================================\n",
      "input_3 (InputLayer)         (None, 400)               0         \n",
      "_________________________________________________________________\n",
      "dense_4 (Dense)              (None, 400)               160400    \n",
      "_________________________________________________________________\n",
      "dense_5 (Dense)              (None, 784)               314384    \n",
      "=================================================================\n",
      "Total params: 474,784\n",
      "Trainable params: 474,784\n",
      "Non-trainable params: 0\n",
      "_________________________________________________________________\n"
     ]
    }
   ],
   "source": [
    "decode_in = Input(shape = (inter_dim1,))\n",
    "decode = decode_in\n",
    "# decode = Dense(inter_dim5,activation = 'relu')(decode)\n",
    "# decode = Dense(inter_dim4,activation = 'relu')(decode)\n",
    "# decode = Dense(inter_dim3,activation = 'relu')(decode)\n",
    "# decode = Dense(inter_dim2,activation = 'relu')(decode)\n",
    "decode = Dense(inter_dim1,activation = 'relu')(decode)\n",
    "decode = Dense(X_train.shape[1],activation = 'sigmoid')(decode)\n",
    "decoder = Model(decode_in,decode)\n",
    "decoder.summary()"
   ]
  },
  {
   "cell_type": "code",
   "execution_count": 10,
   "metadata": {},
   "outputs": [],
   "source": [
    "autoencoder = Model(inputs,decoder(encoder(inputs)))\n",
    "autoencoder.compile(optimizer = optimizer,loss = 'mse')"
   ]
  },
  {
   "cell_type": "code",
   "execution_count": 11,
   "metadata": {},
   "outputs": [
    {
     "name": "stdout",
     "output_type": "stream",
     "text": [
      "Train on 60000 samples, validate on 10000 samples\n",
      "Epoch 1/100\n",
      "60000/60000 [==============================] - 2s 26us/step - loss: 0.0417 - val_loss: 0.0203\n",
      "Epoch 2/100\n",
      "60000/60000 [==============================] - 1s 19us/step - loss: 0.0178 - val_loss: 0.0149\n",
      "Epoch 3/100\n",
      "60000/60000 [==============================] - 1s 13us/step - loss: 0.0141 - val_loss: 0.0123\n",
      "Epoch 4/100\n",
      "60000/60000 [==============================] - 1s 13us/step - loss: 0.0119 - val_loss: 0.0107\n",
      "Epoch 5/100\n",
      "60000/60000 [==============================] - 1s 13us/step - loss: 0.0107 - val_loss: 0.0099\n",
      "Epoch 6/100\n",
      "60000/60000 [==============================] - 1s 13us/step - loss: 0.0099 - val_loss: 0.0091\n",
      "Epoch 7/100\n",
      "60000/60000 [==============================] - 1s 13us/step - loss: 0.0091 - val_loss: 0.0086\n",
      "Epoch 8/100\n",
      "60000/60000 [==============================] - 1s 13us/step - loss: 0.0086 - val_loss: 0.0080\n",
      "Epoch 9/100\n",
      "60000/60000 [==============================] - 1s 12us/step - loss: 0.0083 - val_loss: 0.0078\n",
      "Epoch 10/100\n",
      "60000/60000 [==============================] - 1s 12us/step - loss: 0.0079 - val_loss: 0.0074\n",
      "Epoch 11/100\n",
      "60000/60000 [==============================] - 1s 12us/step - loss: 0.0075 - val_loss: 0.0071\n",
      "Epoch 12/100\n",
      "60000/60000 [==============================] - 1s 12us/step - loss: 0.0073 - val_loss: 0.0069\n",
      "Epoch 13/100\n",
      "60000/60000 [==============================] - 1s 13us/step - loss: 0.0072 - val_loss: 0.0067\n",
      "Epoch 14/100\n",
      "60000/60000 [==============================] - 1s 13us/step - loss: 0.0069 - val_loss: 0.0065\n",
      "Epoch 15/100\n",
      "60000/60000 [==============================] - 1s 13us/step - loss: 0.0067 - val_loss: 0.0064\n",
      "Epoch 16/100\n",
      "60000/60000 [==============================] - 1s 13us/step - loss: 0.0067 - val_loss: 0.0063\n",
      "Epoch 17/100\n",
      "60000/60000 [==============================] - 1s 13us/step - loss: 0.0065 - val_loss: 0.0062\n",
      "Epoch 18/100\n",
      "60000/60000 [==============================] - 1s 13us/step - loss: 0.0065 - val_loss: 0.0061\n",
      "Epoch 19/100\n",
      "60000/60000 [==============================] - 1s 13us/step - loss: 0.0063 - val_loss: 0.0061\n",
      "Epoch 20/100\n",
      "60000/60000 [==============================] - 1s 13us/step - loss: 0.0061 - val_loss: 0.0058\n",
      "Epoch 21/100\n",
      "60000/60000 [==============================] - 1s 15us/step - loss: 0.0060 - val_loss: 0.0057\n",
      "Epoch 22/100\n",
      "60000/60000 [==============================] - 1s 15us/step - loss: 0.0059 - val_loss: 0.0056\n",
      "Epoch 23/100\n",
      "60000/60000 [==============================] - 1s 13us/step - loss: 0.0058 - val_loss: 0.0055\n",
      "Epoch 24/100\n",
      "60000/60000 [==============================] - 1s 13us/step - loss: 0.0058 - val_loss: 0.0054\n",
      "Epoch 25/100\n",
      "60000/60000 [==============================] - 1s 13us/step - loss: 0.0056 - val_loss: 0.0053\n",
      "Epoch 26/100\n",
      "60000/60000 [==============================] - 1s 13us/step - loss: 0.0056 - val_loss: 0.0053\n",
      "Epoch 27/100\n",
      "60000/60000 [==============================] - 1s 13us/step - loss: 0.0055 - val_loss: 0.0052\n",
      "Epoch 28/100\n",
      "60000/60000 [==============================] - 1s 13us/step - loss: 0.0054 - val_loss: 0.0052\n",
      "Epoch 29/100\n",
      "60000/60000 [==============================] - 1s 13us/step - loss: 0.0054 - val_loss: 0.0052\n",
      "Epoch 30/100\n",
      "60000/60000 [==============================] - 1s 13us/step - loss: 0.0054 - val_loss: 0.0051\n",
      "Epoch 31/100\n",
      "60000/60000 [==============================] - 1s 19us/step - loss: 0.0053 - val_loss: 0.0051\n",
      "Epoch 32/100\n",
      "60000/60000 [==============================] - 1s 19us/step - loss: 0.0053 - val_loss: 0.0051\n",
      "Epoch 33/100\n",
      "60000/60000 [==============================] - 1s 13us/step - loss: 0.0053 - val_loss: 0.0050\n",
      "Epoch 34/100\n",
      "60000/60000 [==============================] - 1s 19us/step - loss: 0.0052 - val_loss: 0.0050\n",
      "Epoch 35/100\n",
      "60000/60000 [==============================] - 1s 13us/step - loss: 0.0052 - val_loss: 0.0049\n",
      "Epoch 36/100\n",
      "60000/60000 [==============================] - 1s 13us/step - loss: 0.0051 - val_loss: 0.0049\n",
      "Epoch 37/100\n",
      "60000/60000 [==============================] - 1s 13us/step - loss: 0.0051 - val_loss: 0.0049\n",
      "Epoch 38/100\n",
      "60000/60000 [==============================] - 1s 13us/step - loss: 0.0051 - val_loss: 0.0049\n",
      "Epoch 39/100\n",
      "60000/60000 [==============================] - 1s 13us/step - loss: 0.0051 - val_loss: 0.0049\n",
      "Epoch 40/100\n",
      "60000/60000 [==============================] - 1s 13us/step - loss: 0.0050 - val_loss: 0.0047\n",
      "Epoch 41/100\n",
      "60000/60000 [==============================] - 1s 13us/step - loss: 0.0049 - val_loss: 0.0047\n",
      "Epoch 42/100\n",
      "60000/60000 [==============================] - 1s 13us/step - loss: 0.0049 - val_loss: 0.0047\n",
      "Epoch 43/100\n",
      "60000/60000 [==============================] - 1s 13us/step - loss: 0.0049 - val_loss: 0.0047\n",
      "Epoch 44/100\n",
      "60000/60000 [==============================] - 1s 13us/step - loss: 0.0048 - val_loss: 0.0047\n",
      "Epoch 45/100\n",
      "60000/60000 [==============================] - 1s 13us/step - loss: 0.0048 - val_loss: 0.0046\n",
      "Epoch 46/100\n",
      "60000/60000 [==============================] - 1s 13us/step - loss: 0.0048 - val_loss: 0.0046\n",
      "Epoch 47/100\n",
      "60000/60000 [==============================] - 1s 13us/step - loss: 0.0048 - val_loss: 0.0045\n",
      "Epoch 48/100\n",
      "60000/60000 [==============================] - 1s 13us/step - loss: 0.0047 - val_loss: 0.0045\n",
      "Epoch 49/100\n",
      "60000/60000 [==============================] - 1s 13us/step - loss: 0.0047 - val_loss: 0.0045\n",
      "Epoch 50/100\n",
      "60000/60000 [==============================] - 1s 13us/step - loss: 0.0047 - val_loss: 0.0045\n",
      "Epoch 51/100\n",
      "60000/60000 [==============================] - 1s 13us/step - loss: 0.0047 - val_loss: 0.0045\n",
      "Epoch 52/100\n",
      "60000/60000 [==============================] - 1s 13us/step - loss: 0.0047 - val_loss: 0.0045\n",
      "Epoch 53/100\n",
      "60000/60000 [==============================] - 1s 14us/step - loss: 0.0046 - val_loss: 0.0045\n",
      "Epoch 54/100\n",
      "60000/60000 [==============================] - 1s 13us/step - loss: 0.0047 - val_loss: 0.0046\n",
      "Epoch 55/100\n",
      "60000/60000 [==============================] - 1s 13us/step - loss: 0.0046 - val_loss: 0.0045\n",
      "Epoch 56/100\n",
      "60000/60000 [==============================] - 1s 13us/step - loss: 0.0046 - val_loss: 0.0045\n",
      "Epoch 00056: early stopping\n"
     ]
    }
   ],
   "source": [
    "es_cb = EarlyStopping(monitor='val_loss', patience=3, verbose=1, mode='auto')\n",
    "history = autoencoder.fit(X_train,X_train,\n",
    "                        epochs = epochs,\n",
    "                        batch_size = batch,\n",
    "                        validation_data = (X_test,X_test),\n",
    "                        callbacks=[es_cb])"
   ]
  },
  {
   "cell_type": "code",
   "execution_count": 12,
   "metadata": {},
   "outputs": [
    {
     "data": {
      "image/png": "[encoded data removed]",
      "text/plain": [
       "<Figure size 432x288 with 1 Axes>"
      ]
     },
     "metadata": {},
     "output_type": "display_data"
    }
   ],
   "source": [
    "plotProgress(history)"
   ]
  },
  {
   "cell_type": "code",
   "execution_count": 13,
   "metadata": {},
   "outputs": [],
   "source": [
    "# get latent variables\n",
    "lat = encoder.predict(X_test)\n",
    "# # plot scatter\n",
    "# cmap = ['cyan','black','orange','red','blue','lime','azure','wheat','salmon','navy']\n",
    "# fig,ax=plt.subplots(figsize = (10,8))\n",
    "# for i in range(10):\n",
    "#     ax.scatter(lat[y_test == i,0],lat[y_test == i,1],\n",
    "#                edgecolors = 'black',\n",
    "#                c = cmap[i],\n",
    "#                label = str(i),\n",
    "#                s=100)\n",
    "#     ax.annotate(str(i),(lat[y_test == i,0].mean(),lat[y_test == i,1].mean()),\n",
    "#                bbox = dict(boxstyle = \"round\", fc = \"w\"))\n",
    "# plt.legend()"
   ]
  },
  {
   "cell_type": "code",
   "execution_count": 14,
   "metadata": {},
   "outputs": [
    {
     "data": {
      "image/png": "[encoded data removed]",
      "text/plain": [
       "<Figure size 1440x288 with 20 Axes>"
      ]
     },
     "metadata": {},
     "output_type": "display_data"
    }
   ],
   "source": [
    "# get decoded digits\n",
    "reconstructed = decoder.predict(lat)\n",
    "# plot decoded\n",
    "n = 10\n",
    "row = 0\n",
    "plt.figure(figsize = (20, 4))\n",
    "for i in range(n):\n",
    "    # original\n",
    "    ax = plt.subplot(2, n, i + 1)\n",
    "    plt.imshow(X_test[i + row * n].reshape(28, 28))\n",
    "    plt.gray()\n",
    "    ax.get_xaxis().set_visible(False)\n",
    "    ax.get_yaxis().set_visible(False)\n",
    "    # reconstructed\n",
    "    ax = plt.subplot(2, n, i + 1 + n)\n",
    "    plt.imshow(reconstructed[i + row * n].reshape(28, 28))\n",
    "    plt.gray()\n",
    "    ax.get_xaxis().set_visible(False)\n",
    "    ax.get_yaxis().set_visible(False)\n",
    "plt.show()"
   ]
  }
 ],
 "metadata": {
  "kernelspec": {
   "display_name": "Python 3",
   "language": "python",
   "name": "python3"
  },
  "language_info": {
   "codemirror_mode": {
    "name": "ipython",
    "version": 3
   },
   "file_extension": ".py",
   "mimetype": "text/x-python",
   "name": "python",
   "nbconvert_exporter": "python",
   "pygments_lexer": "ipython3",
   "version": "3.6.6"
  }
 },
 "nbformat": 4,
 "nbformat_minor": 2
}
