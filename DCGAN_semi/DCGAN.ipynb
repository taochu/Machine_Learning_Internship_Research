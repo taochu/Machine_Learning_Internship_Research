{
 "cells": [
  {
   "cell_type": "code",
   "execution_count": 1,
   "metadata": {
    "scrolled": true
   },
   "outputs": [
    {
     "name": "stderr",
     "output_type": "stream",
     "text": [
      "Using TensorFlow backend.\n"
     ]
    }
   ],
   "source": [
    "import numpy as np\n",
    "import matplotlib.pyplot as plt\n",
    "plt.style.use('ggplot')\n",
    "%matplotlib inline\n",
    "\n",
    "from keras.datasets import mnist\n",
    "from keras.layers import Dense, Input, BatchNormalization, Activation\n",
    "from keras.layers import Conv2D, Conv2DTranspose, UpSampling2D, GlobalAveragePooling2D\n",
    "from keras.layers import Reshape, Dropout, Flatten, LeakyReLU\n",
    "from keras.activations import softmax\n",
    "from keras.models import Sequential\n",
    "from keras.optimizers import Adam\n",
    "from keras import backend as K\n",
    "import tensorflow as tf\n",
    "from keras.backend.tensorflow_backend import set_session\n",
    "config = tf.ConfigProto()\n",
    "config.gpu_options.allow_growth = True\n",
    "# config.gpu_options.per_process_gpu_memory_fraction = 0.48\n",
    "set_session(tf.Session(config=config))\n",
    "K.get_session().run(tf.global_variables_initializer())\n",
    "import time"
   ]
  },
  {
   "cell_type": "code",
   "execution_count": 2,
   "metadata": {},
   "outputs": [
    {
     "name": "stdout",
     "output_type": "stream",
     "text": [
      "60000 train samples\n",
      "10000 test samples\n"
     ]
    }
   ],
   "source": [
    "(X_train, y_train), (X_test, y_test) = mnist.load_data()\n",
    "X_train = X_train.reshape(60000,28,28,1)\n",
    "X_test = X_test.reshape(10000,28,28,1)\n",
    "X_train = X_train.astype('float32')\n",
    "X_test = X_test.astype('float32')\n",
    "X_train /= 255\n",
    "X_test /= 255\n",
    "print(X_train.shape[0], 'train samples')\n",
    "print(X_test.shape[0], 'test samples')"
   ]
  },
  {
   "cell_type": "code",
   "execution_count": 3,
   "metadata": {},
   "outputs": [],
   "source": [
    "def build_discriminator():\n",
    "    \n",
    "    def build_classifier():\n",
    "        dropout = 0.4\n",
    "        model = Sequential()\n",
    "\n",
    "        model.add(Conv2D(64,5,strides=2,input_shape=(28,28,1)))\n",
    "        model.add(LeakyReLU(0.2))\n",
    "        model.add(Dropout(dropout))\n",
    "\n",
    "        model.add(Conv2D(128,5,strides=2,padding='same'))\n",
    "        model.add(BatchNormalization(momentum=0.5))\n",
    "        model.add(LeakyReLU(0.2))\n",
    "        model.add(Dropout(dropout))\n",
    "\n",
    "        model.add(Conv2D(256,5,strides=2,padding='same'))\n",
    "        model.add(BatchNormalization(momentum=0.5))\n",
    "        model.add(LeakyReLU(0.2))\n",
    "        model.add(Dropout(dropout))\n",
    "\n",
    "        model.add(Conv2D(512,5,strides=1,padding='same'))\n",
    "        model.add(LeakyReLU(0.2))\n",
    "\n",
    "        # global average pooling\n",
    "        model.add(GlobalAveragePooling2D())\n",
    "        model.add(Dense(10))\n",
    "        model.add(Activation('softmax'))\n",
    "        \n",
    "        return model\n",
    "    \n",
    "    clf = build_classifier()\n",
    "    model = Sequential()\n",
    "    model.add(clf)\n",
    "    \n",
    "    return clf, model"
   ]
  },
  {
   "cell_type": "code",
   "execution_count": 4,
   "metadata": {},
   "outputs": [],
   "source": [
    "def build_generator():\n",
    "    dropout = 0.4\n",
    "    model = Sequential()\n",
    "    \n",
    "    model.add(Dense(7*7*256,input_dim=100))\n",
    "    model.add(BatchNormalization(momentum=0.5))\n",
    "    model.add(Activation('relu'))\n",
    "    model.add(Reshape((7,7,256)))\n",
    "    model.add(Dropout(dropout))\n",
    "    \n",
    "    model.add(UpSampling2D())\n",
    "    model.add(Conv2DTranspose(128,5,padding='same'))\n",
    "    model.add(BatchNormalization(momentum=0.5))\n",
    "    model.add(Activation('relu'))\n",
    "    \n",
    "    model.add(UpSampling2D())\n",
    "    model.add(Conv2DTranspose(64,5,padding='same'))\n",
    "    model.add(BatchNormalization(momentum=0.5))\n",
    "    model.add(Activation('relu'))\n",
    "    \n",
    "    model.add(Conv2DTranspose(32,5,padding='same'))\n",
    "    model.add(BatchNormalization(momentum=0.5))\n",
    "    model.add(Activation('relu'))\n",
    "    \n",
    "    model.add(Conv2DTranspose(1,5,padding='same'))\n",
    "    model.add(Activation('tanh'))\n",
    "    \n",
    "    return model"
   ]
  },
  {
   "cell_type": "code",
   "execution_count": 5,
   "metadata": {},
   "outputs": [],
   "source": [
    "def build_gan(generator, discriminator):\n",
    "    model = Sequential()\n",
    "    model.add(generator)\n",
    "    model.add(discriminator)\n",
    "    return model"
   ]
  },
  {
   "cell_type": "code",
   "execution_count": 6,
   "metadata": {},
   "outputs": [],
   "source": [
    "optimizer = Adam(lr=0.0002)\n",
    "generator = build_generator()\n",
    "classifier, discriminator = build_discriminator()\n",
    "gan = build_gan(generator,discriminator)\n",
    "\n",
    "classifier.compile(loss='sparse_categorical_crossentropy',\n",
    "                   metrics=['acc'],\n",
    "                   optimizer=optimizer)\n",
    "discriminator.compile(loss='binary_crossentropy',\n",
    "                      optimizer=optimizer)\n",
    "discriminator.trainable = False\n",
    "gan.compile(loss='binary_crossentropy',\n",
    "            optimizer=optimizer)\n",
    "discriminator.trainable = True"
   ]
  },
  {
   "cell_type": "code",
   "execution_count": 7,
   "metadata": {},
   "outputs": [],
   "source": [
    "def mask(data, labels):\n",
    "    n = len(data)\n",
    "    label_rate = 0.2\n",
    "    label_index = np.random.randint(n, size=int(n*label_rate))\n",
    "    data_with_label = data[label_index]\n",
    "    data_unlabel = data[~label_index]\n",
    "    new_labels = labels[label_index]\n",
    "    return data_with_label, data_unlabel, new_labels"
   ]
  },
  {
   "cell_type": "code",
   "execution_count": 14,
   "metadata": {},
   "outputs": [],
   "source": [
    "def train(X, y, batch, epochs, classifier, discriminator, generator, gan):\n",
    "    \n",
    "    rounds = len(X) // batch\n",
    "    for epoch in range(epochs):\n",
    "        for rou in range(rounds + 1):\n",
    "            if rou == rounds:\n",
    "                data, labels = X[rou * batch:], y[rou * batch:]\n",
    "            else:\n",
    "                data, labels = X[rou * batch:(rou + 1) * batch], y[rou * batch:(rou + 1) * batch]\n",
    "            if len(data) == 0:\n",
    "                break\n",
    "            labeled,  unlabeled, new_label = mask(data, labels)\n",
    "            \n",
    "            # train classifier with labeled data\n",
    "            classifier.train_on_batch(labeled, new_label)\n",
    "            \n",
    "            # train discriminator on real unlabeled data\n",
    "            ones = np.ones(len(unlabeled)) - 0.1\n",
    "            discriminator.train_on_batch(unlabeled, ones)\n",
    "            \n",
    "            # create random noise for generator input \n",
    "            noise_size = len(data)\n",
    "            noise = np.random.normal(size = (noise_size, 100))\n",
    "            \n",
    "            # train discriminator on fake data\n",
    "            fake = generator.predict_on_batch(noise)\n",
    "            zeros = np.zeros(noise_size)\n",
    "            discriminator.train_on_batch(fake, zeros)\n",
    "            \n",
    "            discriminator.trainable = False\n",
    "            ones = np.ones(noise_size)\n",
    "            gan.train_on_batch(noise, ones)\n",
    "            discriminator.trainable = True"
   ]
  },
  {
   "cell_type": "code",
   "execution_count": 15,
   "metadata": {},
   "outputs": [],
   "source": [
    "initial = classifier.layers[0].get_weights()"
   ]
  },
  {
   "cell_type": "code",
   "execution_count": 16,
   "metadata": {
    "scrolled": false
   },
   "outputs": [
    {
     "name": "stdout",
     "output_type": "stream",
     "text": [
      "36.2731614112854\n"
     ]
    }
   ],
   "source": [
    "epochs= 2\n",
    "batch = 1000\n",
    "t1 = time.time()\n",
    "train(X_train, y_train, batch, epochs, classifier, discriminator, generator, gan)\n",
    "print(time.time() - t1)"
   ]
  },
  {
   "cell_type": "code",
   "execution_count": 24,
   "metadata": {},
   "outputs": [
    {
     "name": "stdout",
     "output_type": "stream",
     "text": [
      "_________________________________________________________________\n",
      "Layer (type)                 Output Shape              Param #   \n",
      "=================================================================\n",
      "conv2d_1 (Conv2D)            (None, 12, 12, 64)        1664      \n",
      "_________________________________________________________________\n",
      "leaky_re_lu_1 (LeakyReLU)    (None, 12, 12, 64)        0         \n",
      "_________________________________________________________________\n",
      "dropout_2 (Dropout)          (None, 12, 12, 64)        0         \n",
      "_________________________________________________________________\n",
      "conv2d_2 (Conv2D)            (None, 6, 6, 128)         204928    \n",
      "_________________________________________________________________\n",
      "batch_normalization_5 (Batch (None, 6, 6, 128)         512       \n",
      "_________________________________________________________________\n",
      "leaky_re_lu_2 (LeakyReLU)    (None, 6, 6, 128)         0         \n",
      "_________________________________________________________________\n",
      "dropout_3 (Dropout)          (None, 6, 6, 128)         0         \n",
      "_________________________________________________________________\n",
      "conv2d_3 (Conv2D)            (None, 3, 3, 256)         819456    \n",
      "_________________________________________________________________\n",
      "batch_normalization_6 (Batch (None, 3, 3, 256)         1024      \n",
      "_________________________________________________________________\n",
      "leaky_re_lu_3 (LeakyReLU)    (None, 3, 3, 256)         0         \n",
      "_________________________________________________________________\n",
      "dropout_4 (Dropout)          (None, 3, 3, 256)         0         \n",
      "_________________________________________________________________\n",
      "conv2d_4 (Conv2D)            (None, 3, 3, 512)         3277312   \n",
      "_________________________________________________________________\n",
      "leaky_re_lu_4 (LeakyReLU)    (None, 3, 3, 512)         0         \n",
      "_________________________________________________________________\n",
      "global_average_pooling2d_1 ( (None, 512)               0         \n",
      "_________________________________________________________________\n",
      "dense_2 (Dense)              (None, 1)                 513       \n",
      "_________________________________________________________________\n",
      "activation_6 (Activation)    (None, 1)                 0         \n",
      "=================================================================\n",
      "Total params: 4,305,409\n",
      "Trainable params: 4,304,641\n",
      "Non-trainable params: 768\n",
      "_________________________________________________________________\n"
     ]
    }
   ],
   "source": [
    "classifier.summary()"
   ]
  },
  {
   "cell_type": "code",
   "execution_count": 18,
   "metadata": {},
   "outputs": [
    {
     "data": {
      "text/plain": [
       "array([[[[ True,  True,  True, ...,  True,  True,  True]],\n",
       "\n",
       "        [[ True,  True,  True, ...,  True,  True,  True]],\n",
       "\n",
       "        [[ True,  True,  True, ...,  True,  True,  True]],\n",
       "\n",
       "        [[ True,  True,  True, ...,  True,  True,  True]],\n",
       "\n",
       "        [[ True,  True,  True, ...,  True,  True,  True]]],\n",
       "\n",
       "\n",
       "       [[[ True,  True,  True, ...,  True,  True,  True]],\n",
       "\n",
       "        [[ True,  True,  True, ...,  True,  True,  True]],\n",
       "\n",
       "        [[ True,  True,  True, ...,  True,  True,  True]],\n",
       "\n",
       "        [[ True,  True,  True, ...,  True,  True,  True]],\n",
       "\n",
       "        [[ True,  True,  True, ...,  True,  True,  True]]],\n",
       "\n",
       "\n",
       "       [[[ True,  True,  True, ...,  True,  True,  True]],\n",
       "\n",
       "        [[ True,  True,  True, ...,  True,  True,  True]],\n",
       "\n",
       "        [[ True,  True,  True, ...,  True,  True,  True]],\n",
       "\n",
       "        [[ True,  True,  True, ...,  True,  True,  True]],\n",
       "\n",
       "        [[ True,  True,  True, ...,  True,  True,  True]]],\n",
       "\n",
       "\n",
       "       [[[ True,  True,  True, ...,  True,  True,  True]],\n",
       "\n",
       "        [[ True,  True,  True, ...,  True,  True,  True]],\n",
       "\n",
       "        [[ True,  True,  True, ...,  True,  True,  True]],\n",
       "\n",
       "        [[ True,  True,  True, ...,  True,  True,  True]],\n",
       "\n",
       "        [[ True,  True,  True, ...,  True,  True,  True]]],\n",
       "\n",
       "\n",
       "       [[[ True,  True,  True, ...,  True,  True,  True]],\n",
       "\n",
       "        [[ True,  True,  True, ...,  True,  True,  True]],\n",
       "\n",
       "        [[ True,  True,  True, ...,  True,  True,  True]],\n",
       "\n",
       "        [[ True,  True,  True, ...,  True,  True,  True]],\n",
       "\n",
       "        [[ True,  True,  True, ...,  True,  True,  True]]]])"
      ]
     },
     "execution_count": 18,
     "metadata": {},
     "output_type": "execute_result"
    }
   ],
   "source": [
    "after = classifier.layers[0].get_weights()\n",
    "after[0] == initial[0]"
   ]
  },
  {
   "cell_type": "code",
   "execution_count": 19,
   "metadata": {},
   "outputs": [
    {
     "data": {
      "text/plain": [
       "<matplotlib.image.AxesImage at 0x7f533b4ebe48>"
      ]
     },
     "execution_count": 19,
     "metadata": {},
     "output_type": "execute_result"
    },
    {
     "data": {
      "image/png": "[encoded data removed]",
      "text/plain": [
       "<Figure size 432x288 with 1 Axes>"
      ]
     },
     "metadata": {},
     "output_type": "display_data"
    }
   ],
   "source": [
    "gen = generator.predict(np.random.normal(0,1,size=(1,100)))\n",
    "plt.imshow(gen.reshape(28,28))"
   ]
  },
  {
   "cell_type": "code",
   "execution_count": 20,
   "metadata": {},
   "outputs": [],
   "source": [
    "y_pred = classifier.predict(X_test)"
   ]
  },
  {
   "cell_type": "code",
   "execution_count": 21,
   "metadata": {},
   "outputs": [],
   "source": [
    "y_test = y_test.reshape(-1,1)"
   ]
  },
  {
   "cell_type": "code",
   "execution_count": 22,
   "metadata": {},
   "outputs": [
    {
     "data": {
      "text/plain": [
       "0.1135"
      ]
     },
     "execution_count": 22,
     "metadata": {},
     "output_type": "execute_result"
    }
   ],
   "source": [
    "(y_pred == y_test).sum()/len(y_test)"
   ]
  }
 ],
 "metadata": {
  "kernelspec": {
   "display_name": "Python 3",
   "language": "python",
   "name": "python3"
  },
  "language_info": {
   "codemirror_mode": {
    "name": "ipython",
    "version": 3
   },
   "file_extension": ".py",
   "mimetype": "text/x-python",
   "name": "python",
   "nbconvert_exporter": "python",
   "pygments_lexer": "ipython3",
   "version": "3.6.6"
  }
 },
 "nbformat": 4,
 "nbformat_minor": 2
}
