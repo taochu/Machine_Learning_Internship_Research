{
 "cells": [
  {
   "cell_type": "code",
   "execution_count": 1,
   "metadata": {
    "scrolled": true
   },
   "outputs": [
    {
     "name": "stderr",
     "output_type": "stream",
     "text": [
      "Using TensorFlow backend.\n"
     ]
    }
   ],
   "source": [
    "import numpy as np\n",
    "import matplotlib.pyplot as plt\n",
    "plt.style.use('ggplot')\n",
    "%matplotlib inline\n",
    "\n",
    "from keras.datasets import mnist\n",
    "from keras.layers import Dense, Input, BatchNormalization, Activation\n",
    "from keras.layers import Conv2D, Conv2DTranspose, UpSampling2D, GlobalAveragePooling2D\n",
    "from keras.layers import Reshape, Dropout, Flatten, LeakyReLU\n",
    "from keras.activations import softmax\n",
    "from keras.models import Sequential, Model\n",
    "from keras.optimizers import Adam\n",
    "from keras.utils import to_categorical\n",
    "from keras import backend as K\n",
    "import tensorflow as tf\n",
    "from keras.backend.tensorflow_backend import set_session\n",
    "config = tf.ConfigProto()\n",
    "config.gpu_options.allow_growth = True\n",
    "# config.gpu_options.per_process_gpu_memory_fraction = 0.48\n",
    "set_session(tf.Session(config=config))\n",
    "K.get_session().run(tf.global_variables_initializer())\n",
    "import time\n",
    "from tqdm import tqdm"
   ]
  },
  {
   "cell_type": "code",
   "execution_count": 2,
   "metadata": {},
   "outputs": [
    {
     "name": "stdout",
     "output_type": "stream",
     "text": [
      "60000 train samples\n",
      "10000 test samples\n"
     ]
    }
   ],
   "source": [
    "(X_train, y_train), (X_test, y_test) = mnist.load_data()\n",
    "X_train = X_train.reshape(60000,28,28,1)\n",
    "X_test = X_test.reshape(10000,28,28,1)\n",
    "X_train = X_train.astype('float32')\n",
    "X_test = X_test.astype('float32')\n",
    "X_train /= 255\n",
    "X_test /= 255\n",
    "print(X_train.shape[0], 'train samples')\n",
    "print(X_test.shape[0], 'test samples')"
   ]
  },
  {
   "cell_type": "code",
   "execution_count": 3,
   "metadata": {},
   "outputs": [],
   "source": [
    "def build_discriminator():\n",
    "    \n",
    "    dropout = 0.4\n",
    "    model = Sequential()\n",
    "\n",
    "    model.add(Conv2D(64,5,strides=2,input_shape=(28,28,1)))\n",
    "    model.add(LeakyReLU(0.2))\n",
    "    model.add(Dropout(dropout))\n",
    "\n",
    "    model.add(Conv2D(128,5,strides=2,padding='same'))\n",
    "    model.add(BatchNormalization(momentum=0.5))\n",
    "    model.add(LeakyReLU(0.2))\n",
    "    model.add(Dropout(dropout))\n",
    "\n",
    "    model.add(Conv2D(256,5,strides=2,padding='same'))\n",
    "    model.add(BatchNormalization(momentum=0.5))\n",
    "    model.add(LeakyReLU(0.2))\n",
    "    model.add(Dropout(dropout))\n",
    "\n",
    "    model.add(Conv2D(512,5,strides=1,padding='same'))\n",
    "    model.add(LeakyReLU(0.2))\n",
    "\n",
    "    # global average pooling\n",
    "    model.add(GlobalAveragePooling2D())\n",
    "    \n",
    "    img = Input(shape=(28,28,1))\n",
    "    gap_features = model(img)\n",
    "    valid = Dense(1, activation='sigmoid')(gap_features)\n",
    "    label = Dense(11,activation='softmax')(gap_features)\n",
    "    \n",
    "    return Model(img,[valid,label])"
   ]
  },
  {
   "cell_type": "code",
   "execution_count": 4,
   "metadata": {},
   "outputs": [],
   "source": [
    "def build_generator():\n",
    "    dropout = 0.4\n",
    "    model = Sequential()\n",
    "    \n",
    "    model.add(Dense(7*7*256,input_dim=100))\n",
    "    model.add(BatchNormalization(momentum=0.5))\n",
    "    model.add(Activation('relu'))\n",
    "    model.add(Reshape((7,7,256)))\n",
    "    model.add(Dropout(dropout))\n",
    "    \n",
    "    model.add(UpSampling2D())\n",
    "    model.add(Conv2DTranspose(128,5,padding='same'))\n",
    "    model.add(BatchNormalization(momentum=0.5))\n",
    "    model.add(Activation('relu'))\n",
    "    \n",
    "    model.add(UpSampling2D())\n",
    "    model.add(Conv2DTranspose(64,5,padding='same'))\n",
    "    model.add(BatchNormalization(momentum=0.5))\n",
    "    model.add(Activation('relu'))\n",
    "    \n",
    "    model.add(Conv2DTranspose(32,5,padding='same'))\n",
    "    model.add(BatchNormalization(momentum=0.5))\n",
    "    model.add(Activation('relu'))\n",
    "    \n",
    "    model.add(Conv2DTranspose(1,5,padding='same'))\n",
    "    model.add(Activation('tanh'))\n",
    "    \n",
    "    noise = Input(shape=(100,))\n",
    "    img = model(noise)\n",
    "    \n",
    "    return Model(noise, img)"
   ]
  },
  {
   "cell_type": "code",
   "execution_count": 5,
   "metadata": {},
   "outputs": [],
   "source": [
    "def build_gan(generator, discriminator):\n",
    "    noise = Input(shape=(100,))\n",
    "    img = generator(noise)\n",
    "    valid, _ = discriminator(img)\n",
    "    return Model(noise, valid)"
   ]
  },
  {
   "cell_type": "code",
   "execution_count": 6,
   "metadata": {},
   "outputs": [],
   "source": [
    "optimizer = Adam(lr=0.0002)\n",
    "generator = build_generator()\n",
    "discriminator = build_discriminator()\n",
    "discriminator.compile(loss=['binary_crossentropy','categorical_crossentropy'],\n",
    "                      loss_weights=[0.5, 0.5],\n",
    "                      metrics=['acc'],\n",
    "                      optimizer=optimizer)\n",
    "discriminator.trainable = False\n",
    "gan = build_gan(generator,discriminator)\n",
    "gan.compile(loss='binary_crossentropy',\n",
    "            optimizer=optimizer)\n",
    "discriminator.trainable = True"
   ]
  },
  {
   "cell_type": "code",
   "execution_count": 7,
   "metadata": {},
   "outputs": [],
   "source": [
    "def mask(data, labels):\n",
    "    n = len(data)\n",
    "    label_rate = 0.0016\n",
    "    label_index = np.random.randint(n, size=int(n*label_rate))\n",
    "    data_with_label = data[label_index]\n",
    "    data_unlabel = data[~label_index]\n",
    "    new_labels = labels[label_index]\n",
    "    new_labels = to_categorical(new_labels, num_classes=11)\n",
    "    return data_with_label, data_unlabel, new_labels"
   ]
  },
  {
   "cell_type": "code",
   "execution_count": 8,
   "metadata": {},
   "outputs": [],
   "source": [
    "def train(X, y, batch, epochs, discriminator, generator, gan):    \n",
    "    rounds = len(X) // batch\n",
    "    for epoch in tqdm(range(epochs)):\n",
    "        for rou in range(rounds + 1):\n",
    "            if rou == rounds:\n",
    "                data, labels = X[rou * batch:], y[rou * batch:]\n",
    "            else:\n",
    "                data, labels = X[rou * batch:(rou + 1) * batch], y[rou * batch:(rou + 1) * batch]\n",
    "            if len(data) == 0:\n",
    "                break\n",
    "\n",
    "            labeled,  unlabeled, new_label = mask(data, labels)\n",
    "            fake_labels = to_categorical(10*np.ones((len(data),1)),num_classes=11)\n",
    "            valid = np.ones(len(labeled)) - 0.1\n",
    "\n",
    "            # create random noise for generator input \n",
    "            noise_size = len(data)\n",
    "            noise = np.random.normal(size = (noise_size, 100))\n",
    "\n",
    "            # train discriminator on fake data\n",
    "            discriminator.trainable = True\n",
    "            fake = generator.predict_on_batch(noise)\n",
    "            zeros = np.zeros(noise_size)\n",
    "            \n",
    "            discriminator.train_on_batch(fake, [zeros, fake_labels])\n",
    "\n",
    "            # train discriminator on real labeled data\n",
    "            discriminator.train_on_batch(labeled, [valid, new_label])\n",
    "            \n",
    "            # train generator\n",
    "            discriminator.trainable = False\n",
    "            ones = np.ones(noise_size)\n",
    "            gan.train_on_batch(noise, ones)\n",
    "            "
   ]
  },
  {
   "cell_type": "code",
   "execution_count": 9,
   "metadata": {
    "scrolled": false
   },
   "outputs": [
    {
     "name": "stderr",
     "output_type": "stream",
     "text": [
      "100%|██████████| 100/100 [19:46<00:00, 11.87s/it]"
     ]
    },
    {
     "name": "stdout",
     "output_type": "stream",
     "text": [
      "1186.7803766727448\n"
     ]
    },
    {
     "name": "stderr",
     "output_type": "stream",
     "text": [
      "\n"
     ]
    }
   ],
   "source": [
    "epochs= 20\n",
    "batch = 1000\n",
    "t1 = time.time()\n",
    "train(X_train, y_train, batch, epochs, discriminator, generator, gan)\n",
    "print(time.time() - t1)"
   ]
  },
  {
   "cell_type": "code",
   "execution_count": 10,
   "metadata": {},
   "outputs": [
    {
     "data": {
      "image/png": "[encoded data removed]",
      "text/plain": [
       "<Figure size 1440x288 with 10 Axes>"
      ]
     },
     "metadata": {},
     "output_type": "display_data"
    }
   ],
   "source": [
    "fig = plt.figure(figsize = (20, 4))\n",
    "n = 10\n",
    "for i in range(n):\n",
    "    # original\n",
    "    gen = generator.predict(np.random.normal(0,1,size=(1,100)))\n",
    "    ax = plt.subplot(2, n, i + 1)\n",
    "    plt.imshow(gen.reshape(28, 28))\n",
    "    ax.get_xaxis().set_visible(False)\n",
    "    ax.get_yaxis().set_visible(False)\n",
    "plt.show()\n",
    "fig.savefig('images/label_rate_{}_100.png'.format(0.0016),bbox_inches='tight')"
   ]
  },
  {
   "cell_type": "code",
   "execution_count": 11,
   "metadata": {},
   "outputs": [],
   "source": [
    "def get_label(one_hot):\n",
    "    return np.argmax(y_pred,1)"
   ]
  },
  {
   "cell_type": "code",
   "execution_count": 12,
   "metadata": {},
   "outputs": [],
   "source": [
    "_, y_pred = discriminator.predict(X_test)\n",
    "y_pred = get_label(y_pred)"
   ]
  },
  {
   "cell_type": "code",
   "execution_count": 13,
   "metadata": {
    "scrolled": true
   },
   "outputs": [
    {
     "data": {
      "text/plain": [
       "0.1903"
      ]
     },
     "execution_count": 13,
     "metadata": {},
     "output_type": "execute_result"
    }
   ],
   "source": [
    "(y_pred == y_test).sum()/len(y_test)"
   ]
  },
  {
   "cell_type": "code",
   "execution_count": 14,
   "metadata": {},
   "outputs": [],
   "source": [
    "accuracy = {0.2:0.9632, 0.02:0.8525, 0.0016:0.5132}"
   ]
  }
 ],
 "metadata": {
  "kernelspec": {
   "display_name": "Python 3",
   "language": "python",
   "name": "python3"
  },
  "language_info": {
   "codemirror_mode": {
    "name": "ipython",
    "version": 3
   },
   "file_extension": ".py",
   "mimetype": "text/x-python",
   "name": "python",
   "nbconvert_exporter": "python",
   "pygments_lexer": "ipython3",
   "version": "3.6.6"
  }
 },
 "nbformat": 4,
 "nbformat_minor": 2
}
